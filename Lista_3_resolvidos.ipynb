{
  "cells": [
    {
      "cell_type": "markdown",
      "metadata": {
        "id": "view-in-github",
        "colab_type": "text"
      },
      "source": [
        "<a href=\"https://colab.research.google.com/github/ffos2023/Curso_FEA_Python/blob/main/Lista_3_resolvidos.ipynb\" target=\"_parent\"><img src=\"https://colab.research.google.com/assets/colab-badge.svg\" alt=\"Open In Colab\"/></a>"
      ]
    },
    {
      "cell_type": "markdown",
      "metadata": {
        "id": "quM1H2TjRAKT"
      },
      "source": [
        "![WhatsApp%20Image%202023-09-10%20at%2011.20.28.jpeg](attachment:WhatsApp%20Image%202023-09-10%20at%2011.20.28.jpeg)\n"
      ]
    },
    {
      "cell_type": "markdown",
      "metadata": {
        "id": "4OoG1zHiRAKZ"
      },
      "source": [
        "# Fala devs, blz??\n",
        "\n",
        "Esta será nossa terceira lista de exercícios para você testar seu conhecimento acerca do conteúdo do MÓDULO 3:\n",
        "\n",
        "-Funções"
      ]
    },
    {
      "cell_type": "markdown",
      "metadata": {
        "id": "aO1zAPgpRAKa"
      },
      "source": [
        "## INSTRUÇÕES:\n",
        "\n",
        "A lista deve ser realizada pelo Jupyter Notebook.\n",
        "\n",
        "Nâo é necessário entregar a lista para afins de certificado dentro da plataforma, entretanto para alunos da USP que queiram participar do processo seletivo ou conseguir créditos AAC (apenas FEANOS) é necessária a entrega de TODAS as listas.\n",
        "\n",
        "A entrega das listas ou pelo menos sua excecução é recomendada a fim de exercitar todo o conhecimento adquirido do curso.\n",
        "\n",
        "O DESAFIO é para realmente te desafiar, por isso não desista de tentar e de continuar com o curso, ao longo das listas você verá que cada vez mais você terá ferramentas para completá-lo.\n",
        "\n",
        "Caso haja alguma dúvida acerca da lista participe das monitorias que serão oferecidas as quintas e sábados das 17h as 18h pelo DISCORD. Caso seu problema não seje resolvido envie uma mensagem para contato.feadev@gmail.com\n",
        "\n",
        "O gabarito será disponibilizado na plataforma após o término de periodo de envio\n",
        "\n"
      ]
    },
    {
      "cell_type": "code",
      "execution_count": null,
      "metadata": {
        "id": "OBZGWjteRAKb"
      },
      "outputs": [],
      "source": [
        "## vamos começar??"
      ]
    },
    {
      "cell_type": "markdown",
      "metadata": {
        "id": "_0E6IOkARAKe"
      },
      "source": [
        "## QUESTÃO 0"
      ]
    },
    {
      "cell_type": "markdown",
      "metadata": {
        "id": "iPeDteW_RAKe"
      },
      "source": [
        "Final do ano chegando e você já quer garantir sua viagem para a Europa, Crie uma função que converta valores euro para real. Considere que 1 euro equivale a 5.33 reais.\n",
        "\n",
        "Sabendo que hotel + comida + transporte + lazer darão entorno de 4500 euros, quantos reais você deverá guardar na sua poupança para garantir as férias."
      ]
    },
    {
      "cell_type": "markdown",
      "metadata": {
        "id": "W-xwIlmHRAKf"
      },
      "source": [
        "![Captura%20de%20tela%202023-10-19%20143306.png](attachment:Captura%20de%20tela%202023-10-19%20143306.png)"
      ]
    },
    {
      "cell_type": "code",
      "execution_count": null,
      "metadata": {
        "id": "Fmb6TSNXRAKf",
        "outputId": "0dfdf046-2e4e-412c-f5b2-116a4b42ecfe"
      },
      "outputs": [
        {
          "data": {
            "text/plain": [
              "23985.0"
            ]
          },
          "execution_count": 3,
          "metadata": {},
          "output_type": "execute_result"
        }
      ],
      "source": [
        "def euro_real(euro):\n",
        "    real = euro*5.33\n",
        "    return real\n",
        "\n",
        "euro_real(4500)"
      ]
    },
    {
      "cell_type": "markdown",
      "metadata": {
        "id": "MVEhIzeERAKh"
      },
      "source": [
        "## QUESTÃO 1\n"
      ]
    },
    {
      "cell_type": "markdown",
      "metadata": {
        "id": "8FA2NoR3RAKi"
      },
      "source": [
        "Uma função em Python é uma sequência de códigos que possui nome próprio, executa tarefas específicas e evita repetição de código, podendo ser chamada pelo seu nome. Há funções já determinadas como print() e input(), entretanto, nesta lista de exercícios criaremos nossas próprias funções!\n"
      ]
    },
    {
      "cell_type": "markdown",
      "metadata": {
        "id": "_CnA6d4KRAKi"
      },
      "source": [
        "Você adicionou o curso de Python da FEA.Dev em seu currículo e foi contratado como estagiário da empresa HelloWorld. Parabéns! Sua tarefa na empresa é automatizar o máximo de processos possíveis e, para isso, precisará criar muitas funções facilitadoras.\n",
        "\n",
        "Começaremos com dois exemplos básicos apenas como demonstração."
      ]
    },
    {
      "cell_type": "markdown",
      "metadata": {
        "id": "YdBO41-HRAKj"
      },
      "source": [
        "![Captura%20de%20tela%202023-10-19%20143652.png](attachment:Captura%20de%20tela%202023-10-19%20143652.png)"
      ]
    },
    {
      "cell_type": "code",
      "execution_count": null,
      "metadata": {
        "id": "Gpc_pbszRAKj",
        "outputId": "6a91083f-4da6-4a64-b26f-8aa6c07e1ad2"
      },
      "outputs": [
        {
          "name": "stdout",
          "output_type": "stream",
          "text": [
            "hello, world!\n",
            "12\n"
          ]
        }
      ],
      "source": [
        "def slogan():\n",
        "    print('hello, world!')\n",
        "\n",
        "#função com parâmetros e retornando um valor\n",
        "def soma(a, b):\n",
        "    print (a + b)\n",
        "\n",
        "\n",
        "\n",
        "slogan()\n",
        "soma(5, 7) #5 e 7 são argumentos da função soma"
      ]
    },
    {
      "cell_type": "markdown",
      "metadata": {
        "id": "4B3F6H4jRAKk"
      },
      "source": [
        "**a)Parâmetros Opcionais:**\n",
        "\n",
        "Observando o departamento de contabilidade da HelloWorld, você percebeu que os funcionários passam o dia multiplicando valores e, como um bom programador, resolveu tornar esse processo mais eficiente. Desenvolva a função mult, que retorna a multiplicação dos parâmetros \"a\", \"b\", \"c\" e \"d\". Porém, a função não precisa necessariamente receber os 4 argumentos. Caso um parâmetro não receba um argumento, ele deve valer 1."
      ]
    },
    {
      "cell_type": "code",
      "execution_count": 1,
      "metadata": {
        "id": "tnOO_2sMRAKl",
        "outputId": "34d53f07-4253-4dc6-a144-c840176502ee",
        "colab": {
          "base_uri": "https://localhost:8080/"
        }
      },
      "outputs": [
        {
          "output_type": "execute_result",
          "data": {
            "text/plain": [
              "15"
            ]
          },
          "metadata": {},
          "execution_count": 1
        }
      ],
      "source": [
        "def mult(a=1, b=1, c=1, d=1):\n",
        "    multiplicacao = a*b*c*d\n",
        "    return multiplicacao\n",
        "\n",
        "mult(3, 5)"
      ]
    },
    {
      "cell_type": "markdown",
      "metadata": {
        "id": "aAOODZWIRAKl"
      },
      "source": [
        "**b)Return X Print:**\n",
        "\n",
        "Antes de tudo, rode todas as células do jupyter.\n",
        "\n",
        "O CEO da HelloWorld está desesperado, pois não consegue solucionar um erro de código que está impedindo a empresa de continuar funcionando. Assim, ele te ligou para ajudá-lo a corrigir tal erro.\n",
        "Rode o código abaixo para identificar o erro.\n",
        "(não altere o código, o erro foi planejado)"
      ]
    },
    {
      "cell_type": "code",
      "execution_count": 4,
      "metadata": {
        "id": "nEmmBTQ_RAKm",
        "outputId": "02585f5a-73e5-466a-d7f5-901508986ef4",
        "colab": {
          "base_uri": "https://localhost:8080/"
        }
      },
      "outputs": [
        {
          "output_type": "execute_result",
          "data": {
            "text/plain": [
              "100"
            ]
          },
          "metadata": {},
          "execution_count": 4
        }
      ],
      "source": [
        "mult(soma(5, 5), 10)"
      ]
    },
    {
      "cell_type": "markdown",
      "metadata": {
        "id": "HJbCnVKsRAKm"
      },
      "source": [
        "Reescreva a função soma para que o erro não ocorra. Lembre-se da diferença entre retornar um valor e imprimir um valor."
      ]
    },
    {
      "cell_type": "code",
      "execution_count": 3,
      "metadata": {
        "id": "oOmmB7HrRAKm"
      },
      "outputs": [],
      "source": [
        "def soma(a, b):\n",
        "   return a + b"
      ]
    },
    {
      "cell_type": "markdown",
      "metadata": {
        "id": "aSAjI7x4RAKn"
      },
      "source": [
        "## QUESTÃO 2\n",
        "\n"
      ]
    },
    {
      "cell_type": "markdown",
      "metadata": {
        "id": "vVoxtgMyRAKn"
      },
      "source": [
        "Você está desenvolvendo um jogo de adivinhação muito simples, no qual o jogador tenta adivinhar um número secreto entre 1 e 100.\n",
        "\n",
        "**Instrução:**\n",
        "\n",
        "O programa gerará aleatoriamente um número entre 1 e 100 que o jogador deve adivinhar.\n",
        "\n",
        "O jogador poderá inserir um palpite (um número inteiro) e pressionar \"Enter\".\n",
        "\n",
        "O programa fornecerá feedback sobre o palpite do jogador, dizendo se o palpite é muito alto, muito baixo ou correto em relação ao número secreto.\n",
        "\n",
        "O jogador continuará a adivinhar até acertar o número secreto.\n",
        "\n",
        "O programa informará quantas tentativas foram necessárias para acertar o número."
      ]
    },
    {
      "cell_type": "markdown",
      "metadata": {
        "id": "b_6fz7l6RAKn"
      },
      "source": [
        "![Captura%20de%20tela%202023-10-19%20160227.png](attachment:Captura%20de%20tela%202023-10-19%20160227.png)"
      ]
    },
    {
      "cell_type": "markdown",
      "metadata": {
        "id": "M3LamIwfRAKo"
      },
      "source": [
        "**Exemplo**\n",
        "\n",
        "Bem-vindo ao Jogo de Adivinhação! Tente adivinhar o número secreto entre 1 e 100.\n",
        "\n",
        "Digite o seu palpite: 50 O número é maior. Tente novamente.\n",
        "\n",
        "Digite o seu palpite: 25 O número é maior. Tente novamente.\n",
        "\n",
        "Digite o seu palpite: 37 O número é menor. Tente novamente.\n",
        "\n",
        "Digite o seu palpite: 42 Parabéns! Você acertou o número secreto 42 em 4 tentativas.\n"
      ]
    },
    {
      "cell_type": "code",
      "execution_count": null,
      "metadata": {
        "id": "YAxy_Ks0RAKo",
        "outputId": "090dc552-ef97-4e2b-d438-4d60cacc13be"
      },
      "outputs": [
        {
          "name": "stdout",
          "output_type": "stream",
          "text": [
            "O número é menor. Tente Novamente\n",
            "O número é menor. Tente Novamente\n",
            "O número é maior. Tente Novamente\n",
            "O número é menor. Tente Novamente\n",
            "O número é maior. Tente Novamente\n",
            "Parabéns! Você acertou o número secreto 30 em 6 tentativas.\n"
          ]
        }
      ],
      "source": [
        "from random import randint\n",
        "\n",
        "def jogo_adivinhacao():\n",
        "    num_secreto = randint(1, 100)\n",
        "    acertou = False\n",
        "    contador = 0\n",
        "    while not acertou:\n",
        "        palpite = int(input(\"Digite seu palpite: \"))\n",
        "        if palpite > num_secreto:\n",
        "            print(\"O número é menor. Tente Novamente\")\n",
        "        elif palpite < num_secreto:\n",
        "            print(\"O número é maior. Tente Novamente\")\n",
        "        else:\n",
        "            acertou = True\n",
        "        contador += 1\n",
        "\n",
        "    print(f\"Parabéns! Você acertou o número secreto {num_secreto} em {contador} tentativas.\")\n",
        "jogo_adivinhacao()"
      ]
    },
    {
      "cell_type": "markdown",
      "metadata": {
        "id": "8CmxJmVJRAKp"
      },
      "source": [
        "## QUESTÃO 3"
      ]
    },
    {
      "cell_type": "markdown",
      "metadata": {
        "id": "vGQplgt1RAKp"
      },
      "source": [
        "**Jogo da Forca**\n",
        "\n",
        "Você está criando um jogo da forca em Python, um jogo popular de adivinhação de palavras. Neste jogo, um jogador tenta adivinhar uma palavra, letra por letra, antes que o enforcado seja completamente desenhado.\n",
        "\n",
        "**Instrução:**\n",
        "\n",
        "Crie uma função chamada verificar_letra que aceite dois argumentos: uma palavra secreta e uma letra. A função deve verificar se a letra está presente na palavra secreta. Se a letra estiver na palavra secreta, a função deve retornar True, caso contrário, deve retornar False.\n",
        "\n",
        "Apenas 1 letra."
      ]
    },
    {
      "cell_type": "markdown",
      "metadata": {
        "id": "dPLujuPWRAKp"
      },
      "source": [
        "![Captura%20de%20tela%202023-10-19%20154009.png](attachment:Captura%20de%20tela%202023-10-19%20154009.png)"
      ]
    },
    {
      "cell_type": "code",
      "execution_count": 9,
      "metadata": {
        "id": "GAuVLzkbRAKq",
        "colab": {
          "base_uri": "https://localhost:8080/"
        },
        "outputId": "f97711a2-a585-4841-e67a-d9677575d26c"
      },
      "outputs": [
        {
          "output_type": "stream",
          "name": "stdout",
          "text": [
            "True\n",
            "False\n",
            "True\n"
          ]
        }
      ],
      "source": [
        "def verificar_letra(letra, palavra):\n",
        "    return letra in palavra\n",
        "\n",
        "print(verificar_letra('a', 'cantada'))\n",
        "print(verificar_letra('b', 'cantada'))\n",
        "print(verificar_letra('c', 'cantada'))"
      ]
    },
    {
      "cell_type": "markdown",
      "metadata": {
        "id": "oaW9b5TWRAKr"
      },
      "source": [
        "# QUESTÃO 4"
      ]
    },
    {
      "cell_type": "markdown",
      "metadata": {
        "id": "OCMZGoKIRAKr"
      },
      "source": [
        "Você está desenvolvendo uma função que embaralha as letras de uma palavra para criar palavras embaralhadas.\n",
        "\n",
        "**Instrução:**\n",
        "\n",
        "Crie uma função chamada embaralhar_palavra que aceite uma palavra como argumento e retorne a mesma palavra com suas letras embaralhadas. Independentemente da entrada ser em maiúsculas ou minúsculas, a saída deve estar sempre em letras minúsculas.\n",
        "\n",
        "A palavra deve ser: embaralhados"
      ]
    },
    {
      "cell_type": "markdown",
      "metadata": {
        "id": "bnhbZ__7RAKs"
      },
      "source": [
        "![Captura%20de%20tela%202023-10-19%20154456.png](attachment:Captura%20de%20tela%202023-10-19%20154456.png)"
      ]
    },
    {
      "cell_type": "code",
      "execution_count": null,
      "metadata": {
        "id": "Z21ROHz3RAKs"
      },
      "outputs": [],
      "source": [
        "#SEU CÓDIGO COMEÇA AQUI##"
      ]
    },
    {
      "cell_type": "markdown",
      "metadata": {
        "id": "Wu8A1r4pRAKs"
      },
      "source": [
        "## QUESTÃO 5"
      ]
    },
    {
      "cell_type": "markdown",
      "metadata": {
        "id": "YUJUnTMQRAKt"
      },
      "source": [
        "Você está desenvolvendo uma função chamada eh_numero_par que verifica se um número é par ou ímpar. Esta função ajudará a determinar se um número dado é divisível por 2.\n",
        "\n",
        "**Instruções:**\n",
        "\n",
        "Crie uma função chamada eh_numero_par que aceite um número como argumento.\n",
        "\n",
        "Dentro da função, verifique se o número é divisível por 2. Se for divisível por 2, retorne True. Caso contrário, retorne False."
      ]
    },
    {
      "cell_type": "code",
      "execution_count": null,
      "metadata": {
        "id": "Y4LVGaCTRAKt"
      },
      "outputs": [],
      "source": [
        "### Seu código começa aqui\n",
        "\n",
        "def eh_numero_par(numero):"
      ]
    },
    {
      "cell_type": "markdown",
      "metadata": {
        "id": "tP4nK0msRAKu"
      },
      "source": [
        "## QUESTÃO 6"
      ]
    },
    {
      "cell_type": "markdown",
      "metadata": {
        "id": "eRQLS-FkRAKu"
      },
      "source": [
        "Você está desenvolvendo um sistema para uma sorveteria que permite aos clientes escolherem seus sabores de sorvete favoritos e montar seus próprios sorvetes. Crie uma função que ajude os clientes a escolher os sabores de sorvete.\n",
        "\n",
        "Crie uma função chamada escolher_sabores que aceite uma lista de sabores de sorvete como argumento. A função deve escolher aleatoriamente um sabor de sorvete da lista e retorná-lo."
      ]
    },
    {
      "cell_type": "markdown",
      "metadata": {
        "id": "Mk1VCpN5RAKu"
      },
      "source": [
        "![Captura%20de%20tela%202023-10-19%20155418.png](attachment:Captura%20de%20tela%202023-10-19%20155418.png)"
      ]
    },
    {
      "cell_type": "code",
      "execution_count": null,
      "metadata": {
        "id": "tFCuzj1bRAKu"
      },
      "outputs": [],
      "source": [
        "sabores_disponíveis = [\"Baunilha\", \"Chocolate\", \"Morango\", \"Creme\", \"Café\", \"Chocolate com menta\", \"Milho\"]\n"
      ]
    },
    {
      "cell_type": "markdown",
      "metadata": {
        "id": "Y3Q_urmLRAK2"
      },
      "source": [
        "# Questão 7"
      ]
    },
    {
      "cell_type": "markdown",
      "metadata": {
        "id": "GimO3PS4RAK2"
      },
      "source": [
        "Você está desenvolvendo uma aplicação de gerenciamento de eventos para auxiliar pessoas a planejarem seus compromissos mensais. Para isso, é essencial criar uma função que gera um calendário mensal para que os usuários possam visualizar os dias da semana e planejar seus eventos.\n",
        "\n",
        "Crie uma função chamada gerar_calendario_mensal que aceita dois argumentos: o ano e o mês para o qual você deseja gerar um calendário. A função deve retornar uma representação do calendário do mês especificado, exibindo os dias da semana e os números dos dias do mês."
      ]
    },
    {
      "cell_type": "markdown",
      "metadata": {
        "id": "rsbFMezYRAK3"
      },
      "source": [
        "![Captura%20de%20tela%202023-10-19%20160340.png](attachment:Captura%20de%20tela%202023-10-19%20160340.png)"
      ]
    },
    {
      "cell_type": "code",
      "execution_count": null,
      "metadata": {
        "id": "E1XIrEO6RAK3"
      },
      "outputs": [],
      "source": [
        "#####SEU CODIGO COMECA AQUI#####\n",
        "import calendar #lembre-se da lista passada\n"
      ]
    },
    {
      "cell_type": "markdown",
      "metadata": {
        "id": "ybmudr7xRAK7"
      },
      "source": [
        "# Questão 8"
      ]
    },
    {
      "cell_type": "markdown",
      "metadata": {
        "id": "HgRWOveRRAK8"
      },
      "source": [
        "É outubrooooo!!!!!\n",
        "Você está se preparando para o Halloween e deseja criar um programa para contar a quantidade de doces que você coletou durante o \"doces ou travessuras\". Crie uma função que simule a contagem de doces."
      ]
    },
    {
      "cell_type": "markdown",
      "metadata": {
        "id": "ea5wu364RAK8"
      },
      "source": [
        "Crie uma função chamada contar_doces que aceite uma lista de tipos de doces como argumento. A função deve contar quantas vezes cada tipo de doce aparece na lista e retornar um dicionário onde as chaves são os tipos de doces e os valores são as quantidades correspondentes."
      ]
    },
    {
      "cell_type": "code",
      "execution_count": null,
      "metadata": {
        "id": "oqu9O0xERAK8"
      },
      "outputs": [],
      "source": [
        "##### seu código começa aqui\n",
        "\n",
        "doces_coletados = [\"chocolate\", \"chocolate\", \"pirulito\", \"caramelo\", \"pirulito\", \"pirulito\"]"
      ]
    },
    {
      "cell_type": "markdown",
      "metadata": {
        "id": "YW_g1nhjRAK9"
      },
      "source": [
        "# DESAFIO"
      ]
    },
    {
      "cell_type": "markdown",
      "metadata": {
        "id": "PdVHkvbgRAK9"
      },
      "source": [
        "Quem não gosta de jogar um bingo na igreja e ganhar uns potes de plásticos maneiros???\n",
        "Vamos jogar no Python? Crie um jogo de bingo onde a pessoa deve pressionar \"Enter\" para sortear cada número. Os números sorteados estão limitados a um intervalo de 1 a 20.\n",
        "\n",
        "Instruções:\n",
        "\n",
        "Crie uma função chamada sortear_bingo que não aceita argumentos.\n",
        "\n",
        "Inicialize uma lista vazia chamada numeros_sorteados para acompanhar os números sorteados.\n",
        "\n",
        "Inicialize uma cartela de bingo com números de 1 a 20. A cartela pode ser uma lista de 2 listas com 5 números cada. Cada número deve ser único na cartela.\n",
        "\n",
        "Utilize um loop para simular o sorteio de números de 1 a 20. Certifique-se de que os números sorteados sejam únicos.\n",
        "\n",
        "Exiba cada número sorteado na tela e a cartela do jogador.\n",
        "\n",
        "Peça à pessoa que pressione \"Enter\" para sortear o próximo número a cada rodada.\n",
        "\n",
        "Marque o número sorteado na cartela do jogador.\n",
        "\n",
        "Continue o sorteio até que todos os números de 1 a 20 tenham sido sorteados. Quando isso acontecer, exiba \"Bingo!\"."
      ]
    },
    {
      "cell_type": "markdown",
      "metadata": {
        "id": "UN6lYMysRAK9"
      },
      "source": [
        "sua cartela será:"
      ]
    },
    {
      "cell_type": "markdown",
      "metadata": {
        "id": "_jPYjITbRAK9"
      },
      "source": [
        "![Captura%20de%20tela%202023-10-19%20152736.png](attachment:Captura%20de%20tela%202023-10-19%20152736.png)"
      ]
    },
    {
      "cell_type": "code",
      "execution_count": null,
      "metadata": {
        "id": "JtmC4Y3TRAK9"
      },
      "outputs": [],
      "source": [
        "##seu codigo começa aqui\n",
        "\n",
        "cartela_jogador = [\n",
        "    [1,8,10],\n",
        "    [5,3,7],\n",
        "    [2,6,9],\n",
        "]"
      ]
    }
  ],
  "metadata": {
    "kernelspec": {
      "display_name": "Python 3 (ipykernel)",
      "language": "python",
      "name": "python3"
    },
    "language_info": {
      "codemirror_mode": {
        "name": "ipython",
        "version": 3
      },
      "file_extension": ".py",
      "mimetype": "text/x-python",
      "name": "python",
      "nbconvert_exporter": "python",
      "pygments_lexer": "ipython3",
      "version": "3.11.3"
    },
    "colab": {
      "provenance": [],
      "include_colab_link": true
    }
  },
  "nbformat": 4,
  "nbformat_minor": 0
}